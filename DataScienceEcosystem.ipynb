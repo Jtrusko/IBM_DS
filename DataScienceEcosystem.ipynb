{
 "cells": [
  {
   "cell_type": "markdown",
   "id": "217ca938-e449-4ead-9901-4fcdfc86412e",
   "metadata": {},
   "source": [
    "# Data Science Tools and Ecosystem"
   ]
  },
  {
   "cell_type": "markdown",
   "id": "8125a933-c5a6-46bc-b83c-cabea2f613fe",
   "metadata": {},
   "source": [
    "In this notebook, Data Science Tools and Ecosystem are summarized.\n"
   ]
  },
  {
   "cell_type": "markdown",
   "id": "6bbb5bdc-39f7-46a8-8133-c656f7b97439",
   "metadata": {},
   "source": [
    "Some of the popular languages that Data Scientists use are:\n",
    "\n",
    "1.  Python\n",
    "2.  R\n",
    "3.  SQL\n",
    "4.  Scala\n",
    "5.  Java"
   ]
  },
  {
   "cell_type": "markdown",
   "id": "0adcc3de-7f7a-4d85-85e5-9805e8115f6a",
   "metadata": {},
   "source": [
    "Some of the commonly used libraries used by Data Scientists include:\n",
    "\n",
    "1.  NumPy\n",
    "2.  Pandas\n",
    "3.  Matplotlib\n",
    "4.  Seaborn\n",
    "5.  Scikit-learn\n",
    "6.  TensorFlow\n",
    "7.  PyTorch"
   ]
  },
  {
   "cell_type": "markdown",
   "id": "bbb421e9-6d22-49ce-9d92-19f4f1aa3a38",
   "metadata": {},
   "source": [
    "| Data Science Tools   |\n",
    "| -------------------- |\n",
    "| Jupyter Notebooks    |\n",
    "| RStudio              |\n",
    "| Apache Spark         |\n"
   ]
  },
  {
   "cell_type": "markdown",
   "id": "09eb83af-79c0-46e1-9f98-b0e83bd8cc7b",
   "metadata": {},
   "source": [
    "### Below are a few examples of evaluating arithmetic expressions in Python"
   ]
  },
  {
   "cell_type": "code",
   "execution_count": 1,
   "id": "c6e8e7fb-ab0e-4eb6-93a3-df0db70636a9",
   "metadata": {},
   "outputs": [
    {
     "data": {
      "text/plain": [
       "17"
      ]
     },
     "execution_count": 1,
     "metadata": {},
     "output_type": "execute_result"
    }
   ],
   "source": [
    "# This is a simple arithmetic expression to multiply then add integers.\n",
    "(3 * 4) + 5"
   ]
  },
  {
   "cell_type": "code",
   "execution_count": 2,
   "id": "1189eb72-90e5-4d54-8acb-31995a9b10b6",
   "metadata": {},
   "outputs": [
    {
     "data": {
      "text/plain": [
       "3.3333333333333335"
      ]
     },
     "execution_count": 2,
     "metadata": {},
     "output_type": "execute_result"
    }
   ],
   "source": [
    "# This will convert 200 minutes to hours by dividing by 60.\n",
    "200 / 60"
   ]
  },
  {
   "cell_type": "markdown",
   "id": "86d1429d-e5a0-4b2f-91cf-c2d5799cd941",
   "metadata": {},
   "source": [
    "**Objectives:**\n",
    "\n",
    "* List popular languages for Data Science.\n",
    "* List commonly used libraries used by Data Scientists.\n",
    "* List Data Science Tools\n",
    "* Give examples of evaluating arithmetic expressions in Python.\n"
   ]
  },
  {
   "cell_type": "code",
   "execution_count": null,
   "id": "b5c694e2-c6f5-4490-a87b-8ba874c2dff5",
   "metadata": {},
   "outputs": [],
   "source": []
  }
 ],
 "metadata": {
  "kernelspec": {
   "display_name": "Python 3 (ipykernel)",
   "language": "python",
   "name": "python3"
  },
  "language_info": {
   "codemirror_mode": {
    "name": "ipython",
    "version": 3
   },
   "file_extension": ".py",
   "mimetype": "text/x-python",
   "name": "python",
   "nbconvert_exporter": "python",
   "pygments_lexer": "ipython3",
   "version": "3.12.8"
  }
 },
 "nbformat": 4,
 "nbformat_minor": 5
}
